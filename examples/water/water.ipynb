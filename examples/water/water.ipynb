{
 "cells": [
  {
   "cell_type": "markdown",
   "metadata": {},
   "source": [
    "# Example 2: Water dipole and polarizability\n",
    "## Tasks\n",
    " - Train dipole and polarizability of [water](dipole).\n",
    " - Use LAMMPS Calculator interface.\n",
    " - Plot the infrared and raman spectrum. \n",
    "\n",
    "## Prepare data \n",
    "You can see the following files required by training in this fold.\n",
    "\n",
    "```bash\n",
    "carbon\n",
    "|- dipole.yaml               \n",
    "|- polar.yaml\n",
    "|- data/\n",
    "   |- train.xyz            \n",
    "   |- test.xyz             \n",
    "```\n",
    "\n",
    "[`dipole.yaml`](dipole.yaml) and [`polar.yaml`](polar.yaml) controls the details of model architecture and training for dipole and polarizability respectively. Some import parameters in this tasks are:\n",
    "\n",
    "For `dipole.yaml`:\n",
    "```yaml\n",
    "cutoff: 4.0\n",
    "Data:\n",
    "  trainSet: data/train.xyz\n",
    "  testSet: data/test.xyz\n",
    "Train:\n",
    "  targetProp: [\"dipole\"] \n",
    "  weight: [1.0]\n",
    "```\n",
    "\n",
    "These parameters mean the cutoff in this task is 4.0 Å. We use `data/train.xyz` as trainset and `data/test.xyz` as testset (actually it should be vaildation dataset here). We only train `dipole` in this task.\n",
    "\n",
    "For `polar.yaml`:\n",
    "```yaml\n",
    "Train:\n",
    "  targetProp: [\"polarizability\"] \n",
    "```\n",
    "means we only train `polarizability`.\n",
    "\n",
    "## Train\n",
    "Now, we can train the model by:"
   ]
  }
 ],
 "metadata": {
  "language_info": {
   "name": "python"
  }
 },
 "nbformat": 4,
 "nbformat_minor": 2
}
