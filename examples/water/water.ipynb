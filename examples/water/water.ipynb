{
 "cells": [
  {
   "cell_type": "code",
   "execution_count": 1,
   "metadata": {},
   "outputs": [],
   "source": [
    "WORKDIR=%pwd "
   ]
  },
  {
   "cell_type": "markdown",
   "metadata": {},
   "source": [
    "# Example 2: Water dipole and polarizability\n",
    "## Tasks\n",
    " - Train dipole and polarizability of [bulk water](https://github.com/lab-cosmo/SA-GPR/tree/master/example/water_bulk).\n",
    " - Use LAMMPS Calculator interface.\n",
    " - Plot the infrared and raman spectrum. \n",
    "\n",
    "## Prepare data \n",
    "You can see the following files required by training in this fold.\n",
    "\n",
    "```bash\n",
    "water\n",
    "|- dipole.yaml               \n",
    "|- polar.yaml\n",
    "|- data/\n",
    "   |- train.xyz            \n",
    "   |- test.xyz             \n",
    "```\n",
    "\n",
    "[`dipole.yaml`](dipole.yaml) and [`polar.yaml`](polar.yaml) controls the details of model architecture and training for dipole and polarizability respectively. Some import parameters in this tasks are:\n",
    "\n",
    "For `dipole.yaml`:\n",
    "```yaml\n",
    "cutoff: 4.0\n",
    "Data:\n",
    "  trainSet: data/train.xyz\n",
    "  testSet: data/test.xyz\n",
    "Train:\n",
    "  targetProp: [\"dipole\"] \n",
    "  weight: [1.0]\n",
    "```\n",
    "\n",
    "These parameters mean the cutoff in this task is 4.0 Å. We use `data/train.xyz` as trainset and `data/test.xyz` as testset (actually it should be vaildation dataset here). We only train `dipole` in this task.\n",
    "\n",
    "For `polar.yaml`:\n",
    "```yaml\n",
    "Train:\n",
    "  targetProp: [\"polarizability\"] \n",
    "```\n",
    "means we only train `polarizability`.\n",
    "\n",
    "## Train\n",
    "Now, we can train the model. For dipole:"
   ]
  },
  {
   "cell_type": "code",
   "execution_count": 8,
   "metadata": {},
   "outputs": [
    {
     "name": "stdout",
     "output_type": "stream",
     "text": [
      "15:45:02   \n",
      "\n",
      "    )            (    (     \n",
      " ( /(          ) )\\ ) )\\ )  \n",
      " )\\())      ( /((()/((()/(  \n",
      "((_)\\   (   )\\())/(_))/(_)) \n",
      " _((_)  )\\ (_))/(_)) (_))   \n",
      "| || | ((_)| |_ | _ \\| _ \\  \n",
      "| __ |/ _ \\|  _||  _/|  _/  \n",
      "|_||_|\\___/ \\__||_|  |_|    \n",
      "HotPP (v.1.0.0 RELEASE)\n",
      "\n",
      "Traceback (most recent call last):\n",
      "  File \"/home/dbissuel/Documents/ILM/TheoChem/Claire/Guillaume/beta_ai/hotpp/.venv/bin/hotpp\", line 10, in <module>\n",
      "    sys.exit(main())\n",
      "             ^^^^^^\n",
      "  File \"/home/dbissuel/Documents/ILM/TheoChem/Claire/Guillaume/beta_ai/hotpp/hotpp/entrypoints/main.py\", line 236, in main\n",
      "    f(**dict_args)\n",
      "  File \"/home/dbissuel/Documents/ILM/TheoChem/Claire/Guillaume/beta_ai/hotpp/hotpp/entrypoints/train.py\", line 425, in main\n",
      "    with open(input_file) as f:\n",
      "         ^^^^^^^^^^^^^^^^\n",
      "FileNotFoundError: [Errno 2] No such file or directory: 'dipole.yaml'\n"
     ]
    }
   ],
   "source": [
    "# ! hotpp train -i dipole.yaml -o dipole --load_checkpoint dipole.ckpt -ll INFO INFO\n",
    "! hotpp train -i dipole.yaml -o dipole -ll INFO INFO"
   ]
  },
  {
   "cell_type": "markdown",
   "metadata": {},
   "source": [
    "where \n",
    "- `-i dipole.yaml` means we use `dipole.yaml` as input parameters (default is `input.yaml`)\n",
    "- `-o dipole` means we use `dipole` as the output folder (default is `outDir`)\n",
    "- `-ll INFO INFO` means the log level for stream and file outputs are `INFO` and `INFO` (default are `DEBUG` and `INFO`)\n",
    "and similarly, for polarizability:"
   ]
  },
  {
   "cell_type": "code",
   "execution_count": 4,
   "metadata": {},
   "outputs": [
    {
     "name": "stdout",
     "output_type": "stream",
     "text": [
      "15:25:51   \n",
      "\n",
      "    )            (    (     \n",
      " ( /(          ) )\\ ) )\\ )  \n",
      " )\\())      ( /((()/((()/(  \n",
      "((_)\\   (   )\\())/(_))/(_)) \n",
      " _((_)  )\\ (_))/(_)) (_))   \n",
      "| || | ((_)| |_ | _ \\| _ \\  \n",
      "| __ |/ _ \\|  _||  _/|  _/  \n",
      "|_||_|\\___/ \\__||_|  |_|    \n",
      "HotPP (v.1.0.0 RELEASE)\n",
      "\n",
      "15:25:53   Using seed 0\n",
      "15:25:53   Preparing data...\n",
      "15:25:54   n_neighbor   : 25.826607142857142\n",
      "15:25:54   all_elements : [1, 8]\n",
      "15:25:54   ground_energy  : [0.0]\n",
      "15:25:54   std   : 1.0\n",
      "15:25:54   mean  : 0.7\n",
      "GPU available: True (cuda), used: True\n",
      "TPU available: False, using: 0 TPU cores\n",
      "HPU available: False, using: 0 HPUs\n",
      "`Trainer(val_check_interval=1.0)` was configured so validation will run at the end of the training epoch..\n",
      "You are using a CUDA device ('NVIDIA RTX 4000 Ada Generation Laptop GPU') that has Tensor Cores. To properly utilize them, you should set `torch.set_float32_matmul_precision('medium' | 'high')` which will trade-off precision for performance. For more details, read https://pytorch.org/docs/stable/generated/torch.set_float32_matmul_precision.html#torch.set_float32_matmul_precision\n",
      "LOCAL_RANK: 0 - CUDA_VISIBLE_DEVICES: [0]\n",
      "\n",
      "  | Name  | Type              | Params | Mode \n",
      "----------------------------------------------------\n",
      "0 | model | MultiAtomicModule | 325 K  | train\n",
      "----------------------------------------------------\n",
      "325 K     Trainable params\n",
      "0         Non-trainable params\n",
      "325 K     Total params\n",
      "1.302     Total estimated model params size (MB)\n",
      "240       Modules in train mode\n",
      "0         Modules in eval mode\n",
      "15:25:55     epoch   |   step   |    lr    |        total        |   polarizability    \n",
      "/home/dbissuel/Documents/ILM/TheoChem/Claire/Guillaume/beta_ai/hotpp/.venv/lib/python3.11/site-packages/numpy/_core/_methods.py:145: RuntimeWarning: invalid value encountered in scalar divide\n",
      "  ret = ret.dtype.type(ret / rcount)\n",
      "15:25:55       0     |    0     | 1.00e-03 |   nan    /  0.1827  |   nan    /  0.1827  \n",
      "15:26:12       0     |    44    | 4.40e-04 |  0.0580  /  0.0117  |  0.0580  /  0.0117  \n",
      "15:26:29       1     |    88    | 8.80e-04 |  0.0104  /  0.0067  |  0.0104  /  0.0067  \n",
      "15:26:47       2     |   132    | 1.00e-03 |  0.0068  /  0.0067  |  0.0068  /  0.0067  \n",
      "15:27:04       3     |   176    | 1.00e-03 |  0.0067  /  0.0067  |  0.0067  /  0.0067  \n",
      "15:27:22       4     |   220    | 1.00e-03 |  0.0067  /  0.0067  |  0.0067  /  0.0067  \n",
      "15:27:39       5     |   264    | 1.00e-03 |  0.0067  /  0.0067  |  0.0067  /  0.0067  \n",
      "15:27:57       6     |   308    | 1.00e-03 |  0.0067  /  0.0068  |  0.0067  /  0.0068  \n",
      "15:28:14       7     |   352    | 1.00e-03 |  0.0067  /  0.0070  |  0.0067  /  0.0070  \n",
      "15:28:31       8     |   396    | 1.00e-03 |  0.0067  /  0.0066  |  0.0067  /  0.0066  \n",
      "15:28:48       9     |   440    | 1.00e-03 |  0.0067  /  0.0067  |  0.0067  /  0.0067  \n",
      "`Trainer.fit` stopped: `max_epochs=10` reached.\n"
     ]
    }
   ],
   "source": [
    "# ! hotpp train -i polar.yaml -o polar --load_checkpoint polar.ckpt -ll INFO INFO\n",
    "! hotpp train -i polar.yaml -o polar -ll INFO INFO"
   ]
  },
  {
   "cell_type": "markdown",
   "metadata": {},
   "source": [
    "\n",
    "## Eval\n",
    "After training done, we can evaluate the models:"
   ]
  },
  {
   "cell_type": "code",
   "execution_count": 5,
   "metadata": {},
   "outputs": [
    {
     "name": "stdout",
     "output_type": "stream",
     "text": [
      "/home/dbissuel/Documents/ILM/TheoChem/Claire/Guillaume/beta_ai/hotpp/examples/water/eval\n",
      "/home/dbissuel/Documents/ILM/TheoChem/Claire/Guillaume/beta_ai/hotpp/hotpp/entrypoints/eval.py:33: FutureWarning: You are using `torch.load` with `weights_only=False` (the current default value), which uses the default pickle module implicitly. It is possible to construct malicious pickle data which will execute arbitrary code during unpickling (See https://github.com/pytorch/pytorch/blob/main/SECURITY.md#untrusted-models for more details). In a future release, the default value for `weights_only` will be flipped to `True`. This limits the functions that could be executed during unpickling. Arbitrary objects will no longer be allowed to be loaded via this mode unless they are explicitly allowlisted by the user via `torch.serialization.add_safe_globals`. We recommend you start setting `weights_only=True` for any use case where you don't have full control of the loaded file. Please open an issue on GitHub for any issues related to this experimental feature.\n",
      "  model = torch.load(modelfile, map_location=device)\n",
      "100%|███████████████████████████████████████████| 19/19 [00:01<00:00, 12.24it/s]\n",
      "/home/dbissuel/Documents/ILM/TheoChem/Claire/Guillaume/beta_ai/hotpp/hotpp/entrypoints/eval.py:33: FutureWarning: You are using `torch.load` with `weights_only=False` (the current default value), which uses the default pickle module implicitly. It is possible to construct malicious pickle data which will execute arbitrary code during unpickling (See https://github.com/pytorch/pytorch/blob/main/SECURITY.md#untrusted-models for more details). In a future release, the default value for `weights_only` will be flipped to `True`. This limits the functions that could be executed during unpickling. Arbitrary objects will no longer be allowed to be loaded via this mode unless they are explicitly allowlisted by the user via `torch.serialization.add_safe_globals`. We recommend you start setting `weights_only=True` for any use case where you don't have full control of the loaded file. Please open an issue on GitHub for any issues related to this experimental feature.\n",
      "  model = torch.load(modelfile, map_location=device)\n",
      "100%|███████████████████████████████████████████| 19/19 [00:02<00:00,  6.71it/s]\n"
     ]
    }
   ],
   "source": [
    "%mkdir eval\n",
    "%cd eval\n",
    "! hotpp eval -m ../dipole/best.pt -d ../data/test.xyz -p dipole --device cuda -b 16\n",
    "! hotpp eval -m ../polar/best.pt -d ../data/test.xyz -p polarizability --device cuda -b 16"
   ]
  },
  {
   "cell_type": "markdown",
   "metadata": {},
   "source": [
    "And you can analyze them. To plot them to compare with DFT:"
   ]
  },
  {
   "cell_type": "code",
   "execution_count": 6,
   "metadata": {},
   "outputs": [
    {
     "name": "stdout",
     "output_type": "stream",
     "text": [
      "polarizability: 0.6400 0.4800\n",
      "   dipole   : 0.4567 0.3472\n"
     ]
    }
   ],
   "source": [
    "! hotpp plot -p polarizability dipole"
   ]
  },
  {
   "cell_type": "markdown",
   "metadata": {},
   "source": [
    "This command means that we plot `polarizability` and `dipole` calculated by `HotPP` and the target values. And you can see the results:  \n",
    "\n",
    "|`polarizability`|`dipole`|\n",
    "|:-:|:-:|\n",
    "|<img src=\"eval/polarizability.png\" width = \"300\"  alt=\"polarizability\" />|<img src=\"eval/dipole.png\" width = \"300\"  alt=\"dipole\" />|\n",
    "\n",
    "\n",
    "If you need plot `peratom polarizability` instead of `polarizability`, just use:\n",
    "```bash\n",
    "$ hotpp plot -p per_polarizability\n",
    "```\n",
    "\n",
    "## Molecule Dynamics\n",
    "Then we introduce how to calculate infrared and raman spectrum with lammps. \n",
    "First, we freeze the model so you can use it without `hotpp` being installed."
   ]
  },
  {
   "cell_type": "code",
   "execution_count": 24,
   "metadata": {},
   "outputs": [
    {
     "name": "stdout",
     "output_type": "stream",
     "text": [
      "/home/gegejun/src/hotpp/examples/water\n",
      "mkdir: cannot create directory ‘lmps’: File exists\n",
      "/home/gegejun/src/hotpp/examples/water/lmps\n"
     ]
    }
   ],
   "source": [
    "%cd {WORKDIR}\n",
    "%mkdir lmps\n",
    "%cd lmps\n",
    "! hotpp freeze ../dipole/best.pt -o dipole.pt\n",
    "! hotpp freeze ../polar/best.pt -o polar.pt"
   ]
  },
  {
   "cell_type": "markdown",
   "metadata": {},
   "source": [
    "We can get `ase-dipole.pt`, `ase-polar.pt`, `lammps-dipole.pt`, and `lammps-polar.pt`. As its name, `lammps-dipole.pt` and `lammps-polar.pt` are we need. Besides, a machine learning potential is required to run molecular dynamics, and it can be trained as shown in the [carbon] example. Here, we skip this process and directly use the pre-trained force field.\n",
    "In summary, we need:\n",
    "```bash\n",
    "lmps\n",
    "|- lammps-dipole.pt      # model to calculate dipole\n",
    "|- lammps-polar.pt       # model to calculate polarizability\n",
    "|- lammps-infer.pt       # model to calculate energy, forces, and virials\n",
    "|- restart.xyz           # initial structure\n",
    "|- in.lammps             # lammps input file\n",
    "|- lmp_hotpp             # lammps binary compiled with hotpp\n",
    "```\n",
    "And the `lmp_hotpp` can be got as shown in the [document](https://hotpp.readthedocs.io/en/latest/install.html).  \n",
    "\n",
    "To quickly show how we calculate infrared and raman spectrum, in this example we just run a 20 ps NVE with only 96 H<sub>2</sub>O. When used in practice, the simulation time and structure size should be extended.   \n",
    "Now we can run lammps by:"
   ]
  },
  {
   "cell_type": "code",
   "execution_count": 4,
   "metadata": {},
   "outputs": [
    {
     "name": "stdout",
     "output_type": "stream",
     "text": [
      "LAMMPS (2 Aug 2023 - Update 1)\n",
      "OMP_NUM_THREADS environment is not set. Defaulting to 1 thread. (src/lammps-2Aug2023/src/comm.cpp:98)\n",
      "  using 1 OpenMP thread(s) per MPI task\n",
      "Reading data file ...\n",
      "  orthogonal box = (0 0 0) to (13.348493 15.413518 14.532002)\n",
      "  1 by 1 by 1 MPI processor grid\n",
      "  reading atoms ...\n",
      "  288 atoms\n",
      "  reading velocities ...\n",
      "  288 velocities\n",
      "  read_data CPU = 0.003 seconds\n",
      "The simulations are performed on the GPU\n",
      "ok\n",
      "Generated 0 of 1 mixed pair_coeff terms from geometric mixing rule\n",
      "The simulations are performed on the GPU\n",
      "ok\n",
      "The simulations are performed on the GPU\n",
      "ok\n",
      "Neighbor list info ...\n",
      "  update: every = 10 steps, delay = 0 steps, check = no\n",
      "  max neighbors/atom: 2000, page size: 100000\n",
      "  master list distance cutoff = 6\n",
      "  ghost atom cutoff = 6\n",
      "  binsize = 3, bins = 5 6 5\n",
      "  3 neighbor lists, perpetual/occasional/extra = 1 2 0\n",
      "  (1) pair miao, perpetual\n",
      "      attributes: full, newton on\n",
      "      pair build: full/bin/atomonly\n",
      "      stencil: full/bin/3d\n",
      "      bin: standard\n",
      "  (2) compute miao/dipole, occasional, copy from (1)\n",
      "      attributes: full, newton on\n",
      "      pair build: copy\n",
      "      stencil: none\n",
      "      bin: none\n",
      "  (3) compute miao/polarizability, occasional, copy from (1)\n",
      "      attributes: full, newton on\n",
      "      pair build: copy\n",
      "      stencil: none\n",
      "      bin: none\n",
      "Setting up Verlet run ...\n",
      "  Unit style    : metal\n",
      "  Current step  : 0\n",
      "  Time step     : 0.0005\n",
      "Per MPI rank memory allocation (min/avg/max) = 3.398 | 3.398 | 3.398 Mbytes\n",
      "   Step         PotEng         KinEng         TotEng          Temp          Press          Volume    \n",
      "         0  -25.274113      10.595795     -14.678317      285.61896      5714.4326      2989.9194    \n",
      "      2000  -24.876068      10.762293     -14.113775      290.10705      5837.1078      2989.9194    \n",
      "      4000  -25.068634      10.552267     -14.516367      284.44561      10893.037      2989.9194    \n",
      "      6000  -24.807093      10.840265     -13.966828      292.20884      5121.4215      2989.9194    \n",
      "      8000  -24.696821      10.775416     -13.921405      290.46078      8179.3193      2989.9194    \n",
      "     10000  -24.577827      10.886911     -13.690916      293.46624      13758.63       2989.9194    \n",
      "     12000  -25.001028      11.466796     -13.534232      309.09753      9750.4965      2989.9194    \n",
      "     14000  -24.072268      11.033265     -13.039002      297.41134      4151.8793      2989.9194    \n",
      "     16000  -24.983761      11.832023     -13.151737      318.94257      7842.389       2989.9194    \n",
      "     18000  -25.091131      12.09712      -12.994011      326.08848      12013.717      2989.9194    \n",
      "     20000  -24.735641      11.603845     -13.131797      312.79181      1327.8405      2989.9194    \n",
      "     22000  -24.224955      11.955183     -12.269772      322.26244      6106.2622      2989.9194    \n",
      "     24000  -24.92952       11.920466     -13.009054      321.32661      4742.5286      2989.9194    \n",
      "     26000  -24.36871       11.703269     -12.665441      315.47187      10279.647      2989.9194    \n",
      "     28000  -23.61507       11.501316     -12.113755      310.02805      6013.8162      2989.9194    \n",
      "     30000  -24.571568      12.66074      -11.910828      341.28134      4684.8707      2989.9194    \n",
      "     32000  -24.174849      12.356578     -11.81827       333.0824       4163.8555      2989.9194    \n",
      "     34000  -23.360071      12.387513     -10.972559      333.91627      11846.909      2989.9194    \n",
      "     36000  -24.550678      14.121505     -10.429173      380.65755      8654.3688      2989.9194    \n",
      "     38000  -23.345896      12.612058     -10.733838      339.96908      8257.0962      2989.9194    \n",
      "     40000  -22.509384      12.357559     -10.151825      333.10883      2826.3801      2989.9194    \n",
      "Loop time of 1968.52 on 1 procs for 40000 steps with 288 atoms\n",
      "\n",
      "Performance: 0.878 ns/day, 27.341 hours/ns, 20.320 timesteps/s, 5.852 katom-step/s\n",
      "92.1% CPU use with 1 MPI tasks x 1 OpenMP threads\n",
      "\n",
      "MPI task timing breakdown:\n",
      "Section |  min time  |  avg time  |  max time  |%varavg| %total\n",
      "---------------------------------------------------------------\n",
      "Pair    | 1273.1     | 1273.1     | 1273.1     |   0.0 | 64.67\n",
      "Neigh   | 3.8581     | 3.8581     | 3.8581     |   0.0 |  0.20\n",
      "Comm    | 0.49211    | 0.49211    | 0.49211    |   0.0 |  0.02\n",
      "Output  | 0.00097652 | 0.00097652 | 0.00097652 |   0.0 |  0.00\n",
      "Modify  | 690.99     | 690.99     | 690.99     |   0.0 | 35.10\n",
      "Other   |            | 0.1057     |            |       |  0.01\n",
      "\n",
      "Nlocal:            288 ave         288 max         288 min\n",
      "Histogram: 1 0 0 0 0 0 0 0 0 0\n",
      "Nghost:           1640 ave        1640 max        1640 min\n",
      "Histogram: 1 0 0 0 0 0 0 0 0 0\n",
      "Neighs:              0 ave           0 max           0 min\n",
      "Histogram: 1 0 0 0 0 0 0 0 0 0\n",
      "FullNghs:        25640 ave       25640 max       25640 min\n",
      "Histogram: 1 0 0 0 0 0 0 0 0 0\n",
      "\n",
      "Total # of neighbors = 25640\n",
      "Ave neighs/atom = 89.027778\n",
      "Neighbor list builds = 4000\n",
      "Dangerous builds not checked\n",
      "Total wall time: 0:32:59\n"
     ]
    }
   ],
   "source": [
    "! ./lmp_hotpp -in in.lammps"
   ]
  },
  {
   "cell_type": "markdown",
   "metadata": {},
   "source": [
    "Now we have got `dipole.txt` and `polar.txt`, and can calculate IR and Raman by:"
   ]
  },
  {
   "cell_type": "code",
   "execution_count": 14,
   "metadata": {},
   "outputs": [],
   "source": [
    "%cp ../../../tools/spectrum.py .\n",
    "import numpy as np\n",
    "from spectrum import load_lmps_dipole, load_lmps_polar, calc_acf_dp, calc_acf_beta, calc_ir, calc_raman, fs\n",
    "import matplotlib.pyplot as plt\n",
    "\n",
    "N = 1000\n",
    "T = 298.15\n",
    "dt = 1 * fs\n",
    "w_max = 4000\n",
    "\n",
    "dipole = load_lmps_dipole(\"dipole.txt\")\n",
    "acf_dp = calc_acf_dp(dipole, N)\n",
    "freq, ir = calc_ir(acf_dp, N, T, dt, w_max)\n",
    "ir = ir / ir.max()\n",
    "\n",
    "fig = plt.figure(figsize=(12, 7))\n",
    "fig.patch.set_facecolor('white')\n",
    "ax = plt.gca()\n",
    "ax.spines['bottom'].set_linewidth(3)\n",
    "ax.spines['left'].set_linewidth(3)\n",
    "ax.spines['right'].set_linewidth(3)\n",
    "ax.spines['top'].set_linewidth(3)\n",
    "ax.tick_params(labelsize=16)\n",
    "ax.set_xlabel('Frequency (cm-1)', fontsize=20)\n",
    "ax.set_ylabel('IR intensity (arb. units)', fontsize=20)\n",
    "plt.plot(freq, ir, color='blue', linewidth=3)\n",
    "plt.savefig(\"ir.png\")\n",
    "plt.close()\n",
    "\n",
    "polar = load_lmps_polar(\"polar.txt\")\n",
    "acf_beta = calc_acf_beta(polar, N)\n",
    "freq, raman = calc_raman(acf_beta, N, T, dt, w_max)\n",
    "raman /= raman.max()\n",
    "\n",
    "fig = plt.figure(figsize=(12, 7))\n",
    "fig.patch.set_facecolor('white')\n",
    "ax = plt.gca()\n",
    "ax.spines['bottom'].set_linewidth(3)\n",
    "ax.spines['left'].set_linewidth(3)\n",
    "ax.spines['right'].set_linewidth(3)\n",
    "ax.spines['top'].set_linewidth(3)\n",
    "ax.tick_params(labelsize=16)\n",
    "ax.set_xlabel('Frequency (cm-1)', fontsize=20)\n",
    "ax.set_ylabel('anisotropic Raman intensity (arb. units)', fontsize=20)\n",
    "plt.plot(freq, raman, color='blue', linewidth=3)\n",
    "plt.savefig(\"raman.png\")\n",
    "plt.close()"
   ]
  },
  {
   "cell_type": "markdown",
   "metadata": {},
   "source": [
    "And you can see the results:\n",
    "|`IR`|`Raman`|\n",
    "|:-:|:-:|\n",
    "|<img src=\"lmps/ir.png\" width = \"500\"  alt=\"IR\" />|<img src=\"lmps/raman.png\" width = \"500\"  alt=\"Raman\" />|\n",
    "\n"
   ]
  }
 ],
 "metadata": {
  "kernelspec": {
   "display_name": "hotpp2",
   "language": "python",
   "name": "hotpp2"
  },
  "language_info": {
   "codemirror_mode": {
    "name": "ipython",
    "version": 3
   },
   "file_extension": ".py",
   "mimetype": "text/x-python",
   "name": "python",
   "nbconvert_exporter": "python",
   "pygments_lexer": "ipython3",
   "version": "3.11.2"
  }
 },
 "nbformat": 4,
 "nbformat_minor": 2
}
